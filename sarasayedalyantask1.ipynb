{
  "nbformat": 4,
  "nbformat_minor": 0,
  "metadata": {
    "colab": {
      "provenance": [],
      "authorship_tag": "ABX9TyOGhOQIUT7ng0y1QZjSam9G",
      "include_colab_link": true
    },
    "kernelspec": {
      "name": "python3",
      "display_name": "Python 3"
    },
    "language_info": {
      "name": "python"
    }
  },
  "cells": [
    {
      "cell_type": "markdown",
      "metadata": {
        "id": "view-in-github",
        "colab_type": "text"
      },
      "source": [
        "<a href=\"https://colab.research.google.com/github/saraalyan/sarasayed/blob/main/sarasayedalyantask1.ipynb\" target=\"_parent\"><img src=\"https://colab.research.google.com/assets/colab-badge.svg\" alt=\"Open In Colab\"/></a>"
      ]
    },
    {
      "cell_type": "code",
      "execution_count": 16,
      "metadata": {
        "colab": {
          "base_uri": "https://localhost:8080/"
        },
        "id": "lte7CgnJ7N-R",
        "outputId": "6bfca4a1-84cb-47d1-b19a-cc1b716c34e5"
      },
      "outputs": [
        {
          "output_type": "stream",
          "name": "stdout",
          "text": [
            "Looking in indexes: https://pypi.org/simple, https://us-python.pkg.dev/colab-wheels/public/simple/\n",
            "Requirement already satisfied: pyopenms in /usr/local/lib/python3.7/dist-packages (2.7.0)\n",
            "Requirement already satisfied: numpy in /usr/local/lib/python3.7/dist-packages (from pyopenms) (1.21.6)\n"
          ]
        }
      ],
      "source": [
        "!pip install pyopenms"
      ]
    },
    {
      "cell_type": "code",
      "source": [
        "from pyopenms import*\n",
        "sq=\"VAKA\"\n",
        "mfull2=0\n",
        "for i in range(0,len(sq)):\n",
        "    q=sq[i]\n",
        "    e = AASequence.fromString(q)\n",
        "    mfull2=mfull2+e.getMonoWeight()\n",
        "seq = AASequence.fromString(sq)\n",
        "print(\"Sequence:\", seq,\"\\n\")\n",
        "mfull = seq.getMonoWeight()\n",
        "print(\"Monoisotopic mass of peptide [M] is\", mfull,\"\\n\") \n",
        "if (mfull<mfull2):\n",
        "    print(\n",
        "        \"The mass of the amino acid residue is 18 amu lighter than the mass of the amino acid because the formation of peptide bonds at the N- and C-termini results in the loss of water from the amino acid..\")"
      ],
      "metadata": {
        "colab": {
          "base_uri": "https://localhost:8080/"
        },
        "id": "GhsXP5_o7fID",
        "outputId": "57d39827-846c-46a2-d143-6e3f9affbb2f"
      },
      "execution_count": 17,
      "outputs": [
        {
          "output_type": "stream",
          "name": "stdout",
          "text": [
            "Sequence: VAKA \n",
            "\n",
            "Monoisotopic mass of peptide [M] is 387.2481710527 \n",
            "\n",
            "The mass of the amino acid residue is 18 amu lighter than the mass of the amino acid because the formation of peptide bonds at the N- and C-termini results in the loss of water from the amino acid..\n"
          ]
        }
      ]
    }
  ]
}