{
  "nbformat": 4,
  "nbformat_minor": 0,
  "metadata": {
    "colab": {
      "provenance": [],
      "authorship_tag": "ABX9TyOShbaAyErKFyQhFcaxph7I",
      "include_colab_link": true
    },
    "kernelspec": {
      "name": "python3",
      "display_name": "Python 3"
    },
    "language_info": {
      "name": "python"
    }
  },
  "cells": [
    {
      "cell_type": "markdown",
      "metadata": {
        "id": "view-in-github",
        "colab_type": "text"
      },
      "source": [
        "<a href=\"https://colab.research.google.com/github/saraalyan/sarasayed/blob/main/sarasayedalyan.ipynb\" target=\"_parent\"><img src=\"https://colab.research.google.com/assets/colab-badge.svg\" alt=\"Open In Colab\"/></a>"
      ]
    },
    {
      "cell_type": "code",
      "execution_count": 16,
      "metadata": {
        "colab": {
          "base_uri": "https://localhost:8080/"
        },
        "id": "lte7CgnJ7N-R",
        "outputId": "6bfca4a1-84cb-47d1-b19a-cc1b716c34e5"
      },
      "outputs": [
        {
          "output_type": "stream",
          "name": "stdout",
          "text": [
            "Looking in indexes: https://pypi.org/simple, https://us-python.pkg.dev/colab-wheels/public/simple/\n",
            "Requirement already satisfied: pyopenms in /usr/local/lib/python3.7/dist-packages (2.7.0)\n",
            "Requirement already satisfied: numpy in /usr/local/lib/python3.7/dist-packages (from pyopenms) (1.21.6)\n"
          ]
        }
      ],
      "source": [
        "!pip install pyopenms"
      ]
    },
    {
      "cell_type": "code",
      "source": [
        "from re import M\n",
        "from pyopenms import*\n",
        "m=0\n",
        "seq = AASequence.fromString(\"VAKA\")\n",
        "print(\"Sequence:\", seq,\"\\n\")\n",
        "mfull=seq.getMonoWeight()\n",
        "print (mfull)\n",
        "for c in seq:\n",
        "  m=c.getMonoWeight()+m\n",
        "print (m,\"\\n\")\n",
        "if (mfull<m):\n",
        "    print(\n",
        "        \"The mass of the amino acid residue is 18 amu lighter than the mass of the amino acid because the formation of peptide bonds at the N- and C-termini results in the loss of water from the amino acid..\")"
      ],
      "metadata": {
        "colab": {
          "base_uri": "https://localhost:8080/"
        },
        "id": "NzrTweJM-tpV",
        "outputId": "982c3e8e-e1a2-4918-e93d-483f25c61f4e"
      },
      "execution_count": 26,
      "outputs": [
        {
          "output_type": "stream",
          "name": "stdout",
          "text": [
            "Sequence: VAKA \n",
            "\n",
            "387.2481710527\n",
            "441.2798662441 \n",
            "\n",
            "The mass of the amino acid residue is 18 amu lighter than the mass of the amino acid because the formation of peptide bonds at the N- and C-termini results in the loss of water from the amino acid..\n"
          ]
        }
      ]
    }
  ]
}