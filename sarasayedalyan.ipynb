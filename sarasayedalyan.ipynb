{
  "nbformat": 4,
  "nbformat_minor": 0,
  "metadata": {
    "colab": {
      "provenance": [],
      "authorship_tag": "ABX9TyPelaJUQdR2MVX1sa5gP4uz",
      "include_colab_link": true
    },
    "kernelspec": {
      "name": "python3",
      "display_name": "Python 3"
    },
    "language_info": {
      "name": "python"
    }
  },
  "cells": [
    {
      "cell_type": "markdown",
      "metadata": {
        "id": "view-in-github",
        "colab_type": "text"
      },
      "source": [
        "<a href=\"https://colab.research.google.com/github/saraalyan/sarasayed/blob/main/sarasayedalyan.ipynb\" target=\"_parent\"><img src=\"https://colab.research.google.com/assets/colab-badge.svg\" alt=\"Open In Colab\"/></a>"
      ]
    },
    {
      "cell_type": "code",
      "execution_count": 15,
      "metadata": {
        "colab": {
          "base_uri": "https://localhost:8080/"
        },
        "id": "lte7CgnJ7N-R",
        "outputId": "1102b87b-212f-4358-b608-78ce3e9d673c"
      },
      "outputs": [
        {
          "output_type": "stream",
          "name": "stdout",
          "text": [
            "Looking in indexes: https://pypi.org/simple, https://us-python.pkg.dev/colab-wheels/public/simple/\n",
            "Collecting pyopenms\n",
            "  Downloading pyopenms-2.7.0-cp37-cp37m-manylinux2014_x86_64.whl (49.0 MB)\n",
            "\u001b[K     |████████████████████████████████| 49.0 MB 1.2 MB/s \n",
            "\u001b[?25hRequirement already satisfied: numpy in /usr/local/lib/python3.7/dist-packages (from pyopenms) (1.21.6)\n",
            "Installing collected packages: pyopenms\n",
            "Successfully installed pyopenms-2.7.0\n",
            "Sequence: VAKA \n",
            "\n",
            "Monoisotopic mass of peptide [M] is 387.2481710527 \n",
            "\n",
            "The mass of the amino acid residue is 18 amu lighter than the mass of the amino acid because the formation of peptide bonds at the N- and C-termini results in the loss of water from the amino acid..\n"
          ]
        }
      ],
      "source": [
        "!pip install pyopenms\n",
        "\n",
        "from pyopenms import*\n",
        "sq=\"VAKA\"\n",
        "mfull2=0\n",
        "for i in range(0,len(sq)):\n",
        "    q=sq[i]\n",
        "    e = AASequence.fromString(q)\n",
        "    mfull2=mfull2+e.getMonoWeight()\n",
        "seq = AASequence.fromString(sq)\n",
        "print(\"Sequence:\", seq,\"\\n\")\n",
        "mfull = seq.getMonoWeight()\n",
        "print(\"Monoisotopic mass of peptide [M] is\", mfull,\"\\n\") \n",
        "if (mfull<mfull2):\n",
        "    print(\n",
        "        \"The mass of the amino acid residue is 18 amu lighter than the mass of the amino acid because the formation of peptide bonds at the N- and C-termini results in the loss of water from the amino acid..\")"
      ]
    },
    {
      "cell_type": "code",
      "source": [],
      "metadata": {
        "colab": {
          "base_uri": "https://localhost:8080/",
          "height": 130
        },
        "id": "GhsXP5_o7fID",
        "outputId": "dc5177be-7ef6-4a14-c7e5-e1e98decf6c6"
      },
      "execution_count": 13,
      "outputs": [
        {
          "output_type": "error",
          "ename": "SyntaxError",
          "evalue": "ignored",
          "traceback": [
            "\u001b[0;36m  File \u001b[0;32m\"<ipython-input-13-1a46faeb1a8c>\"\u001b[0;36m, line \u001b[0;32m1\u001b[0m\n\u001b[0;31m    pip install pyopenms\u001b[0m\n\u001b[0m              ^\u001b[0m\n\u001b[0;31mSyntaxError\u001b[0m\u001b[0;31m:\u001b[0m invalid syntax\n"
          ]
        }
      ]
    }
  ]
}